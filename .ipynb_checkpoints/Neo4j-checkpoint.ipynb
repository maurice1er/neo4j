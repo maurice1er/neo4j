{
 "cells": [
  {
   "cell_type": "markdown",
   "metadata": {},
   "source": [
    "## Introduction à Neo4j"
   ]
  },
  {
   "cell_type": "markdown",
   "metadata": {},
   "source": [
    "``` Graphs Are Everywhere ```"
   ]
  },
  {
   "cell_type": "markdown",
   "metadata": {},
   "source": [
    "```\n",
    "Les problèmes de données les plus urgents d'aujourd'hui concernent les connexions, \n",
    "pas seulement les données discrètes. Pour surmonter ces obstacles, vous avez besoin d'une technologie\n",
    "de données connectée - une base de données graphique.\n",
    "```"
   ]
  },
  {
   "cell_type": "markdown",
   "metadata": {},
   "source": [
    "![neo4j logo](images/neo4j.png)"
   ]
  },
  {
   "cell_type": "markdown",
   "metadata": {},
   "source": [
    "---"
   ]
  },
  {
   "cell_type": "markdown",
   "metadata": {},
   "source": [
    "#### Qu'est-ce que Noe4j ?"
   ]
  },
  {
   "cell_type": "markdown",
   "metadata": {},
   "source": [
    "Neo4j est une base de donnée graphique native open source écrit en Java et Scala.\n",
    "il est accessible au public depuis 2007 et fournit un backend transactionnel compatible ACID:\n",
    "* A = Atomicité\n",
    "* C = Consistence\n",
    "* I = Isolation\n",
    "* D = Durabilité"
   ]
  },
  {
   "cell_type": "markdown",
   "metadata": {},
   "source": [
    "![graph](images/1_graph.png)"
   ]
  },
  {
   "cell_type": "markdown",
   "metadata": {},
   "source": [
    "---"
   ]
  },
  {
   "cell_type": "markdown",
   "metadata": {},
   "source": [
    "#### Quels sont les avantages de Neo4j ?"
   ]
  },
  {
   "cell_type": "markdown",
   "metadata": {},
   "source": [
    "Quelques fonctionnalités qui rendent Neo4j très populaire parmi les développeurs, les architectes et les administrateurs de base de données:\n",
    "* Cypher: langage de requetage\n",
    "* Schéma graphique de propriété flexible et adaptatif\n",
    "* Pilotes pour les langages de programmation: Java, Python, .NET, Scala, Go, etc."
   ]
  },
  {
   "cell_type": "markdown",
   "metadata": {},
   "source": [
    "![drivers neo4j](images/drivers.png)"
   ]
  },
  {
   "cell_type": "markdown",
   "metadata": {},
   "source": [
    "---"
   ]
  },
  {
   "cell_type": "markdown",
   "metadata": {},
   "source": [
    "### Editions Neo4j"
   ]
  },
  {
   "cell_type": "markdown",
   "metadata": {},
   "source": [
    "![edition neo4j](images/4_edition_neo4j.png)"
   ]
  },
  {
   "cell_type": "markdown",
   "metadata": {},
   "source": [
    "---"
   ]
  },
  {
   "cell_type": "markdown",
   "metadata": {},
   "source": [
    "### Qui utilise Neo4j ?"
   ]
  },
  {
   "cell_type": "markdown",
   "metadata": {},
   "source": [
    "![user neo4j](images/3_neo_client.png)"
   ]
  },
  {
   "cell_type": "markdown",
   "metadata": {},
   "source": [
    "---"
   ]
  },
  {
   "cell_type": "markdown",
   "metadata": {},
   "source": [
    "### Cas d'utilisation de Neo4j"
   ]
  },
  {
   "cell_type": "markdown",
   "metadata": {},
   "source": [
    "Neo4j peut être utilisé pour:\n",
    "* la detection de fraude\n",
    "* système de recommandations\n",
    "* l'analyse d'impacts\n",
    "* detection de communauté\n",
    "* traitement de language natuerel \n",
    "* Gestion des identités et des accès\n",
    "* Data Science: Neo4j Graph Data Science\n",
    "* NPL: Natural Language Processing\n",
    "* ..."
   ]
  },
  {
   "cell_type": "markdown",
   "metadata": {},
   "source": [
    "---"
   ]
  },
  {
   "cell_type": "markdown",
   "metadata": {},
   "source": [
    "### Installation de Neo4j: Community Edition"
   ]
  },
  {
   "cell_type": "markdown",
   "metadata": {},
   "source": [
    "#### Pré-requis\n",
    " * Neo4j 4.0 nécessite le runtime Java 11\n",
    "  * Ubuntu: https://doc.ubuntu-fr.org/openjdk#version_11\n",
    "  * Windows: https://www.oracle.com/java/technologies/javase-jdk11-downloads.html\n",
    " \n",
    "<span style=\"color:red\">NB:</span> Il est important que vous configuriez votre version Java par défaut pour pointer vers Java 11, sinon Neo4j 4.0.4 ne pourra pas démarrer.\n",
    "    \n",
    "1. Pointer vers Java11: **sudo update-java-alternatives --jre --set 'java11name'**\n",
    "2. Définie le JAVA_HOME: **export JAVA_HOME=/usr/lib/jvm/java-11-openjdk-amd64**"
   ]
  },
  {
   "cell_type": "markdown",
   "metadata": {},
   "source": [
    "> ### Installation du depôt Neo4j\n",
    ">> #### sudo apt-get install neo4j=1:4.0.4"
   ]
  },
  {
   "cell_type": "markdown",
   "metadata": {},
   "source": [
    "<span style=\"margin-left: 100px\"> ou </span>"
   ]
  },
  {
   "cell_type": "markdown",
   "metadata": {},
   "source": [
    "> ### Installation de l'archive\n",
    ">> **1.** Lien de téléchargement de l'archive: [Neo4j Download Center](https://neo4j.com/download-center/#community \"https://neo4j.com/download-center/#community\") <br>\n",
    ">> **2.** Extraire le contenu de l'archive: <span style=\"color:red\">tar -xf 'archivename'</span> <br>\n",
    ">> **3.** Allez dans le repertoire: <span style=\"color:red\">cd 'archivename'</span> <br>\n",
    ">> **4.** Démarrer le server: <span style=\"color:red\">./bin/neo4j console'</span> <br>"
   ]
  },
  {
   "cell_type": "markdown",
   "metadata": {},
   "source": [
    "<span style=\"margin-left: 100px\"> ou </span>"
   ]
  },
  {
   "cell_type": "markdown",
   "metadata": {},
   "source": [
    "> ### Installation via Docker\n",
    ">> ```docker run --name testneo4j \\\n",
    "    -p7474:7474 -p7687:7687 \\\n",
    "    -d \\\n",
    "    -v $HOME/neo4j/data:/data \\\n",
    "    -v $HOME/neo4j/logs:/logs \\\n",
    "    -v $HOME/neo4j/import:/var/lib/neo4j/import \\\n",
    "    -v $HOME/neo4j/plugins:/plugins \\\n",
    "    --env NEO4J_AUTH=neo4j/neo4j \\\n",
    "    neo4j:latest```\n",
    ">> <br> <br> documentation: [Run Neo4j in Docker](https://neo4j.com/developer/docker-run-neo4j 'https://neo4j.com/developer/docker-run-neo4j')"
   ]
  },
  {
   "cell_type": "markdown",
   "metadata": {},
   "source": [
    "#### localhost:7474\n",
    "* username: neo4j\n",
    "* password: neo4j"
   ]
  },
  {
   "cell_type": "markdown",
   "metadata": {},
   "source": [
    "![broswer neo4j](images/browser.png)"
   ]
  },
  {
   "cell_type": "markdown",
   "metadata": {},
   "source": [
    "---"
   ]
  },
  {
   "cell_type": "markdown",
   "metadata": {},
   "source": [
    "### Neo4j et Cypher"
   ]
  },
  {
   "cell_type": "markdown",
   "metadata": {},
   "source": [
    "##### <span style=\"color:red\">Rappel:</span> Cypher est un langage de requête de graphique déclaratif. Il est conçu pour être simple, mais puissant;\n",
    "Cypher emprunte sa structure à SQL par conséquent de nombreux mots clés vous serront familliers, comme: <span style=\"color:red\">WHERE et ORDER BY</span>."
   ]
  },
  {
   "cell_type": "markdown",
   "metadata": {},
   "source": [
    "##### Voici quelques exemples de clauses utilisées\n",
    "* CREATE: permet de créer un noeud ou une relation\n",
    "* MATCH: permet de récupérer tous les nœuds\n",
    "* RETURN: permet d'afficher les informations d'un noeud ou une valeur précise\n",
    "* DELETE: permet de supprimer des nœuds et des relations\n",
    "* ..."
   ]
  },
  {
   "cell_type": "markdown",
   "metadata": {},
   "source": [
    "#### Exercice"
   ]
  },
  {
   "cell_type": "markdown",
   "metadata": {},
   "source": [
    "Envisagez une base de donées sur les soins de santé"
   ]
  },
  {
   "cell_type": "markdown",
   "metadata": {},
   "source": [
    "![exercice 1](images/exercice1.png)"
   ]
  },
  {
   "cell_type": "markdown",
   "metadata": {},
   "source": [
    "#### Création du Noeud Patient\n",
    "```un noeud correspond à une table dans les modèles relationnelles```"
   ]
  },
  {
   "cell_type": "markdown",
   "metadata": {},
   "source": [
    "##### <span style=\"color:green\">CREATE</span> (p:Patient {nom:'Awa Faye', ssn:'111-07-2250',adresse:'Rue 10, Av Jean Jaurès, Dakar', naissance:'1998-03-18'} ) <span style=\"color:green\">RETURN</span> (p)"
   ]
  },
  {
   "cell_type": "markdown",
   "metadata": {},
   "source": [
    "##### <span style=\"color:red\">Explication</span>"
   ]
  },
  {
   "cell_type": "markdown",
   "metadata": {},
   "source": [
    "* **CREATE**: ce mot clé permet de créer un noeud de tyle Patient\n",
    "* **p** est un alias(variable) qui permet d'indexer ce noeud\n",
    "* **Patient** est le type de noeud(label)\n",
    "* **{nom:'Awa Faye', ssn:'111-07-2250',adresse:'Rue 10, Av Jean Jaurès, Dakar', naissance:'1998-03-18'}**: l'ensemble de paire(clé-valeur) constitue la propriété du noeud"
   ]
  },
  {
   "cell_type": "markdown",
   "metadata": {},
   "source": [
    "#### Création du Noeud Symptome"
   ]
  },
  {
   "cell_type": "markdown",
   "metadata": {},
   "source": [
    "##### <span style=\"color:green\">CREATE</span> (s:Symptome {nom:'SIBO', description:'Small Intestinal Bacterial Overgrowth. Les symptômes du SIBO sont variables, puisqu’ils dépendent du nombre et des espèces de bactéries ayant migré du côlon vers l’intestin.'} ) <span style=\"color:green\">RETURN</span> (s)"
   ]
  },
  {
   "cell_type": "markdown",
   "metadata": {},
   "source": [
    "#### Création du Noeud Maladie"
   ]
  },
  {
   "cell_type": "markdown",
   "metadata": {},
   "source": [
    "##### <span style=\"color:green\">CREATE</span> (m:Maladie {nom:'SIBO', description:'Small Intestinal Bacterial Overgrowth. Les symptômes du SIBO sont variables, puisqu’ils dépendent du nombre et des espèces de bactéries ayant migré du côlon vers l’intestin.'} ) <span style=\"color:green\">RETURN</span> (m)"
   ]
  },
  {
   "cell_type": "markdown",
   "metadata": {},
   "source": [
    "---\n",
    "---\n",
    "---\n",
    "---\n",
    "---"
   ]
  },
  {
   "cell_type": "markdown",
   "metadata": {},
   "source": [
    "![merci](images/merci.jpg)"
   ]
  },
  {
   "cell_type": "markdown",
   "metadata": {},
   "source": [
    "---\n",
    "---\n",
    "---\n",
    "---\n",
    "---"
   ]
  }
 ],
 "metadata": {
  "kernelspec": {
   "display_name": "Python 3",
   "language": "python",
   "name": "python3"
  },
  "language_info": {
   "codemirror_mode": {
    "name": "ipython",
    "version": 3
   },
   "file_extension": ".py",
   "mimetype": "text/x-python",
   "name": "python",
   "nbconvert_exporter": "python",
   "pygments_lexer": "ipython3",
   "version": "3.7.3"
  }
 },
 "nbformat": 4,
 "nbformat_minor": 2
}
